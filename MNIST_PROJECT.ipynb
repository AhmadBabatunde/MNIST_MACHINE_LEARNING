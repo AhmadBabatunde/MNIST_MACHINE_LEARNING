{
 "cells": [
  {
   "cell_type": "code",
   "execution_count": 1,
   "id": "8e0de898-5385-4e25-8305-4193a9826025",
   "metadata": {},
   "outputs": [
    {
     "name": "stdout",
     "output_type": "stream",
     "text": [
      "WARNING:tensorflow:From C:\\Users\\pc\\.conda\\envs\\TF\\Lib\\site-packages\\keras\\src\\losses.py:2976: The name tf.losses.sparse_softmax_cross_entropy is deprecated. Please use tf.compat.v1.losses.sparse_softmax_cross_entropy instead.\n",
      "\n"
     ]
    },
    {
     "name": "stderr",
     "output_type": "stream",
     "text": [
      "C:\\Users\\pc\\.conda\\envs\\TF\\Lib\\site-packages\\tqdm\\auto.py:21: TqdmWarning: IProgress not found. Please update jupyter and ipywidgets. See https://ipywidgets.readthedocs.io/en/stable/user_install.html\n",
      "  from .autonotebook import tqdm as notebook_tqdm\n"
     ]
    }
   ],
   "source": [
    "import numpy as np\n",
    "import tensorflow as tf\n",
    "\n",
    "import tensorflow_datasets as tfds"
   ]
  },
  {
   "cell_type": "code",
   "execution_count": 2,
   "id": "8df7d217-bb43-4283-ad4a-66ded6e45b9c",
   "metadata": {},
   "outputs": [],
   "source": [
    "mnist_dataset, mnist_info = tfds.load(name='mnist', with_info=True, as_supervised=True)"
   ]
  },
  {
   "cell_type": "markdown",
   "id": "6288842a-01d5-44ac-aded-3f3cf004d09d",
   "metadata": {},
   "source": [
    "## Preprocessing The MNIST Data"
   ]
  },
  {
   "cell_type": "code",
   "execution_count": 40,
   "id": "463036ea-3a2a-44ed-8e97-a6f110b0e900",
   "metadata": {},
   "outputs": [],
   "source": [
    "mnist_train, mnist_test = mnist_dataset['train'], mnist_dataset['test']\n",
    "num_val = 0.1* mnist_info.splits['train'].num_examples\n",
    "num_val = tf.cast(num_val, tf.int64)\n",
    "\n",
    "num_test = 0.1* mnist_info.splits['test'].num_examples\n",
    "num_test = tf.cast(num_test, tf.int64)\n",
    "\n",
    "def scale(image, label):\n",
    "    image = tf.cast(image, tf.float64)\n",
    "    image /= 255.\n",
    "    return image, label\n",
    "\n",
    "scaled_train_val = mnist_train.map(scale)\n",
    "scale_test = mnist_test.map(scale)\n",
    "test_data = scale_test\n",
    "\n",
    "buffer_size = 10000\n",
    "shuffle_train_val = scaled_train_val.shuffle(buffer_size)\n",
    "\n",
    "val_data = shuffle_train_val.take(num_val)\n",
    "train_data = shuffle_train_val.skip(num_val)\n",
    "\n",
    "batch_size = 100\n",
    "\n",
    "train_data = train_data.batch(batch_size)\n",
    "val_data = val_data.batch(num_val)\n",
    "test_data = test_data.batch(num_test)\n",
    "\n",
    "val_inputs, val_targets = next(iter(val_data))\n"
   ]
  },
  {
   "cell_type": "markdown",
   "id": "a7c27e72-3212-41bf-ae7d-4d59c087eafc",
   "metadata": {},
   "source": [
    "## Outlining The Model"
   ]
  },
  {
   "cell_type": "code",
   "execution_count": 46,
   "id": "2072c93e-5dbc-47fc-9274-b0b428d0e384",
   "metadata": {},
   "outputs": [],
   "source": [
    "input_size = 784\n",
    "output_size = 10\n",
    "hidden_layer_size = 200\n",
    "\n",
    "model = tf.keras.Sequential([\n",
    "                             tf.keras.layers.Flatten(input_shape=(28,28,1)),\n",
    "                             tf.keras.layers.Dense(hidden_layer_size, activation='relu'),\n",
    "                             tf.keras.layers.Dense(hidden_layer_size, activation='tanh'),\n",
    "                             tf.keras.layers.Dense(output_size, activation='softmax')\n",
    "                             ])"
   ]
  },
  {
   "cell_type": "markdown",
   "id": "25bff429-1ae1-4899-a863-f33aa8fedd58",
   "metadata": {},
   "source": [
    "## Selecting The Optimizer And The Loss Function"
   ]
  },
  {
   "cell_type": "code",
   "execution_count": 47,
   "id": "978e2a84-8817-480c-a57d-5c2a69b52844",
   "metadata": {},
   "outputs": [],
   "source": [
    "model.compile(optimizer='adam', loss='sparse_categorical_crossentropy', metrics=['accuracy'])"
   ]
  },
  {
   "cell_type": "markdown",
   "id": "e065b7bc-86fc-459b-8923-7634b38b8593",
   "metadata": {},
   "source": [
    "## Training"
   ]
  },
  {
   "cell_type": "code",
   "execution_count": 48,
   "id": "fb22ad90-5de8-4d54-b279-c071ad300d89",
   "metadata": {},
   "outputs": [
    {
     "name": "stdout",
     "output_type": "stream",
     "text": [
      "Epoch 1/5\n",
      "540/540 - 6s - loss: 0.2597 - accuracy: 0.9237 - val_loss: 0.1298 - val_accuracy: 0.9612 - 6s/epoch - 10ms/step\n",
      "Epoch 2/5\n",
      "540/540 - 4s - loss: 0.1011 - accuracy: 0.9688 - val_loss: 0.0871 - val_accuracy: 0.9737 - 4s/epoch - 7ms/step\n",
      "Epoch 3/5\n",
      "540/540 - 4s - loss: 0.0679 - accuracy: 0.9790 - val_loss: 0.0726 - val_accuracy: 0.9775 - 4s/epoch - 7ms/step\n",
      "Epoch 4/5\n",
      "540/540 - 4s - loss: 0.0489 - accuracy: 0.9842 - val_loss: 0.0579 - val_accuracy: 0.9835 - 4s/epoch - 7ms/step\n",
      "Epoch 5/5\n",
      "540/540 - 4s - loss: 0.0366 - accuracy: 0.9884 - val_loss: 0.0472 - val_accuracy: 0.9868 - 4s/epoch - 8ms/step\n"
     ]
    },
    {
     "data": {
      "text/plain": [
       "<keras.src.callbacks.History at 0x12de56cd050>"
      ]
     },
     "execution_count": 48,
     "metadata": {},
     "output_type": "execute_result"
    }
   ],
   "source": [
    "num_epoch = 5\n",
    "model.fit(train_data, epochs = num_epoch, validation_data = ( val_inputs, val_targets), verbose = 2)"
   ]
  },
  {
   "cell_type": "markdown",
   "id": "a2490818-b295-43a3-b7b1-94fc77609640",
   "metadata": {},
   "source": [
    "## Test the model"
   ]
  },
  {
   "cell_type": "code",
   "execution_count": 57,
   "id": "be213af7-dd0d-4a12-b0cd-81dac86871a1",
   "metadata": {},
   "outputs": [
    {
     "name": "stdout",
     "output_type": "stream",
     "text": [
      "10/10 [==============================] - 0s 31ms/step - loss: 0.0774 - accuracy: 0.9755\n",
      "Test loss: 0.08. Test accuracy: 0.98\n"
     ]
    }
   ],
   "source": [
    "test_loss, test_accuracy = model.evaluate(test_data)\n",
    "print(f\"Test loss: {test_loss:.2f}. Test accuracy: {test_accuracy:.2f}\")"
   ]
  },
  {
   "cell_type": "code",
   "execution_count": null,
   "id": "ca112fb5-4ab4-4d97-874d-4f7863633659",
   "metadata": {},
   "outputs": [],
   "source": []
  }
 ],
 "metadata": {
  "kernelspec": {
   "display_name": "Python 3 (ipykernel)",
   "language": "python",
   "name": "python3"
  },
  "language_info": {
   "codemirror_mode": {
    "name": "ipython",
    "version": 3
   },
   "file_extension": ".py",
   "mimetype": "text/x-python",
   "name": "python",
   "nbconvert_exporter": "python",
   "pygments_lexer": "ipython3",
   "version": "3.11.7"
  }
 },
 "nbformat": 4,
 "nbformat_minor": 5
}
